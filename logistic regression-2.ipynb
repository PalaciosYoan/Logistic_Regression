{
 "cells": [
  {
   "cell_type": "code",
   "execution_count": 60,
   "id": "517f59e3",
   "metadata": {},
   "outputs": [
    {
     "data": {
      "text/plain": [
       "LogisticRegression(C=2.0, solver='liblinear')"
      ]
     },
     "execution_count": 60,
     "metadata": {},
     "output_type": "execute_result"
    }
   ],
   "source": [
    "import numpy as np\n",
    "import scipy.io\n",
    "\n",
    "from sklearn.linear_model import LogisticRegression\n",
    "\n",
    "dataset = scipy.io.loadmat('MNISTmini.mat')\n",
    "\n",
    "#set class label\n",
    "label = [5, 9]\n",
    "\n",
    "#get training data from dataset\n",
    "train_fea_data = dataset['train_fea1']\n",
    "train_gnd_data = dataset['train_gnd1']\n",
    "\n",
    "\n",
    "#get 5s and 9s data\n",
    "cls01_data = np.array(np.where(train_gnd_data[:,0] == label[0])) #class 5 \n",
    "cls02_data = np.array(np.where(train_gnd_data[:,0] == label[1])) #class 9\n",
    "\n",
    "#data split\n",
    "cls05_train = cls01_data[0,0:500]\n",
    "cls05_val = cls01_data[0,500:1000]\n",
    "cls05_test = cls01_data[0,1000:1500]\n",
    "\n",
    "cls09_train = cls02_data[0,0:500]\n",
    "cls09_val = cls02_data[0,500:1000]\n",
    "cls09_test = cls02_data[0,1000:1500]\n",
    "\n",
    "# all_index = np.concatenate(cls01_data, cls02_data)\n",
    "\n",
    "#concatenate for single train, val and test dataset\n",
    "train_class = np.concatenate([cls05_train, cls09_train])\n",
    "val_class = np.concatenate([cls05_val, cls09_val])\n",
    "test_class = np.concatenate([cls05_test, cls09_test])\n",
    "\n",
    "#define X and Y for training and validation set\n",
    "X_train = train_fea_data[train_class,:]\n",
    "Y_train = train_gnd_data[train_class,:]\n",
    "\n",
    "X_val = train_fea_data[val_class,:]\n",
    "Y_val = train_gnd_data[val_class,:]\n",
    "\n",
    "#logisticClf with C=2.0\n",
    "logitClf = LogisticRegression(penalty='l2', C=2.0, solver='liblinear')\n",
    "logitClf.fit(X_train, Y_train.ravel())"
   ]
  },
  {
   "cell_type": "code",
   "execution_count": 61,
   "id": "bdc0ce56",
   "metadata": {},
   "outputs": [
    {
     "data": {
      "text/plain": [
       "0.95"
      ]
     },
     "execution_count": 61,
     "metadata": {},
     "output_type": "execute_result"
    }
   ],
   "source": [
    "predict = logitClf.predict(train_fea_data[test_class,:])\n",
    "logitClf.score(train_fea_data[test_class,:], train_gnd_data[test_class,:])"
   ]
  },
  {
   "cell_type": "code",
   "execution_count": 62,
   "id": "86f36d23",
   "metadata": {},
   "outputs": [
    {
     "data": {
      "text/plain": [
       "LogisticRegression(C=2.0, solver='liblinear')"
      ]
     },
     "execution_count": 62,
     "metadata": {},
     "output_type": "execute_result"
    }
   ],
   "source": [
    "#fitting model on validation data\n",
    "logitClf.fit(X_val, Y_val.ravel())"
   ]
  },
  {
   "cell_type": "code",
   "execution_count": 63,
   "id": "2f8bf71d",
   "metadata": {},
   "outputs": [
    {
     "data": {
      "text/plain": [
       "0.967"
      ]
     },
     "execution_count": 63,
     "metadata": {},
     "output_type": "execute_result"
    }
   ],
   "source": [
    "predict = logitClf.predict(train_fea_data[test_class,:])\n",
    "logitClf.score(train_fea_data[test_class,:], train_gnd_data[test_class,:])"
   ]
  },
  {
   "cell_type": "code",
   "execution_count": 81,
   "id": "1dbde4ad",
   "metadata": {},
   "outputs": [
    {
     "data": {
      "text/plain": [
       "LogisticRegression(C=0.001, solver='liblinear')"
      ]
     },
     "execution_count": 81,
     "metadata": {},
     "output_type": "execute_result"
    }
   ],
   "source": [
    "#define the logisticClf with C=0.001\n",
    "logitClf_01 = LogisticRegression(penalty='l2', C=0.001, solver='liblinear')\n",
    "logitClf_01.fit(X_train, Y_train.ravel())"
   ]
  },
  {
   "cell_type": "code",
   "execution_count": 82,
   "id": "d56c8056",
   "metadata": {},
   "outputs": [
    {
     "data": {
      "text/plain": [
       "0.958"
      ]
     },
     "execution_count": 82,
     "metadata": {},
     "output_type": "execute_result"
    }
   ],
   "source": [
    "predict_test_data = logitClf_01.predict(train_fea_data[test_class,:])\n",
    "logitClf_01.score(train_fea_data[test_class,:], train_gnd_data[test_class,:])"
   ]
  },
  {
   "cell_type": "code",
   "execution_count": 84,
   "id": "d8605dc6",
   "metadata": {},
   "outputs": [
    {
     "data": {
      "text/plain": [
       "0.974"
      ]
     },
     "execution_count": 84,
     "metadata": {},
     "output_type": "execute_result"
    }
   ],
   "source": [
    "#prediction on validation data\n",
    "predict_val_data = logitClf_01.predict(train_fea_data[val_class,:])\n",
    "logitClf_01.score(train_fea_data[val_class,:], train_gnd_data[val_class,:])"
   ]
  },
  {
   "cell_type": "code",
   "execution_count": 85,
   "id": "212acb27",
   "metadata": {
    "scrolled": true
   },
   "outputs": [
    {
     "data": {
      "text/plain": [
       "Text(69.0, 0.5, 'Truth')"
      ]
     },
     "execution_count": 85,
     "metadata": {},
     "output_type": "execute_result"
    },
    {
     "data": {
      "image/png": "[encoded data removed]",
      "text/plain": [
       "<Figure size 720x504 with 2 Axes>"
      ]
     },
     "metadata": {
      "needs_background": "light"
     },
     "output_type": "display_data"
    }
   ],
   "source": [
    "#confusion matrix on test data prediction\n",
    "test_matrix = confusion_matrix(train_gnd_data[test_class,:], predict_test_data )\n",
    "\n",
    "import matplotlib.pyplot as plt\n",
    "import seaborn as sn\n",
    "plt.figure(figsize=(10,7))\n",
    "sn.heatmap(test_matrix, annot=True)\n",
    "plt.xlabel('Predicted')\n",
    "plt.ylabel('Truth')"
   ]
  },
  {
   "cell_type": "code",
   "execution_count": 86,
   "id": "b9774ea5",
   "metadata": {},
   "outputs": [
    {
     "data": {
      "text/plain": [
       "Text(69.0, 0.5, 'Truth')"
      ]
     },
     "execution_count": 86,
     "metadata": {},
     "output_type": "execute_result"
    },
    {
     "data": {
      "image/png": "[encoded data removed]",
      "text/plain": [
       "<Figure size 720x504 with 2 Axes>"
      ]
     },
     "metadata": {
      "needs_background": "light"
     },
     "output_type": "display_data"
    }
   ],
   "source": [
    "#confusion matrix on validation data prediction\n",
    "test_matrix = confusion_matrix(train_gnd_data[val_class,:], predict_val_data )\n",
    "\n",
    "import matplotlib.pyplot as plt\n",
    "import seaborn as sn\n",
    "plt.figure(figsize=(10,7))\n",
    "sn.heatmap(test_matrix, annot=True)\n",
    "plt.xlabel('Predicted')\n",
    "plt.ylabel('Truth')"
   ]
  },
  {
   "cell_type": "code",
   "execution_count": 78,
   "id": "a1f0a5b2",
   "metadata": {},
   "outputs": [
    {
     "data": {
      "text/plain": [
       "0.939"
      ]
     },
     "execution_count": 78,
     "metadata": {},
     "output_type": "execute_result"
    }
   ],
   "source": [
    "#define the logisticClf with C=10^-7\n",
    "logitClf_02 = LogisticRegression(penalty='l2', C=0.00000001, solver='liblinear')\n",
    "logitClf_02.fit(X_train, Y_train.ravel())\n",
    "\n",
    "#prediction for test_data \n",
    "predict_train_test = logitClf_02.predict(train_fea_data[test_class,:])\n",
    "logitClf_02.score(train_fea_data[test_class,:], train_gnd_data[test_class,:])"
   ]
  },
  {
   "cell_type": "code",
   "execution_count": 79,
   "id": "109c0557",
   "metadata": {},
   "outputs": [],
   "source": [
    "from sklearn.metrics import confusion_matrix\n",
    "matrix = confusion_matrix(train_gnd_data[test_class,:], predict_train_test )"
   ]
  },
  {
   "cell_type": "code",
   "execution_count": 80,
   "id": "dbacf578",
   "metadata": {},
   "outputs": [
    {
     "data": {
      "text/plain": [
       "Text(69.0, 0.5, 'Truth')"
      ]
     },
     "execution_count": 80,
     "metadata": {},
     "output_type": "execute_result"
    },
    {
     "data": {
      "image/png": "[encoded data removed]",
      "text/plain": [
       "<Figure size 720x504 with 2 Axes>"
      ]
     },
     "metadata": {
      "needs_background": "light"
     },
     "output_type": "display_data"
    }
   ],
   "source": [
    "import matplotlib.pyplot as plt\n",
    "import seaborn as sn\n",
    "plt.figure(figsize=(10,7))\n",
    "sn.heatmap(matrix, annot=True)\n",
    "plt.xlabel('Predicted')\n",
    "plt.ylabel('Truth')"
   ]
  },
  {
   "cell_type": "code",
   "execution_count": 75,
   "id": "a90be140",
   "metadata": {},
   "outputs": [
    {
     "data": {
      "text/plain": [
       "0.953"
      ]
     },
     "execution_count": 75,
     "metadata": {},
     "output_type": "execute_result"
    }
   ],
   "source": [
    "#prediction of model with C=10^-7 on validation data\n",
    "predict_train_val = logitClf_02.predict(train_fea_data[val_class,:])\n",
    "logitClf_02.score(train_fea_data[val_class,:], train_gnd_data[val_class,:])"
   ]
  },
  {
   "cell_type": "code",
   "execution_count": 77,
   "id": "b84da1ac",
   "metadata": {},
   "outputs": [
    {
     "data": {
      "text/plain": [
       "Text(69.0, 0.5, 'Truth')"
      ]
     },
     "execution_count": 77,
     "metadata": {},
     "output_type": "execute_result"
    },
    {
     "data": {
      "image/png": "[encoded data removed]",
      "text/plain": [
       "<Figure size 720x504 with 2 Axes>"
      ]
     },
     "metadata": {
      "needs_background": "light"
     },
     "output_type": "display_data"
    }
   ],
   "source": [
    "matrix_train_val = confusion_matrix(train_gnd_data[val_class,:], predict_train_val )\n",
    "plt.figure(figsize=(10,7))\n",
    "sn.heatmap(matrix_train_val, annot=True)\n",
    "plt.xlabel('Predicted')\n",
    "plt.ylabel('Truth')"
   ]
  },
  {
   "cell_type": "code",
   "execution_count": null,
   "id": "695cb04c",
   "metadata": {},
   "outputs": [],
   "source": []
  },
  {
   "cell_type": "code",
   "execution_count": null,
   "id": "69cc0d34",
   "metadata": {},
   "outputs": [],
   "source": []
  }
 ],
 "metadata": {
  "kernelspec": {
   "display_name": "Python 3",
   "language": "python",
   "name": "python3"
  },
  "language_info": {
   "codemirror_mode": {
    "name": "ipython",
    "version": 3
   },
   "file_extension": ".py",
   "mimetype": "text/x-python",
   "name": "python",
   "nbconvert_exporter": "python",
   "pygments_lexer": "ipython3",
   "version": "3.8.8"
  }
 },
 "nbformat": 4,
 "nbformat_minor": 5
}
